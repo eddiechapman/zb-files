{
 "cells": [
  {
   "cell_type": "markdown",
   "metadata": {},
   "source": [
    "# Zuck PDF Cover Creator\n",
    "\n",
    "*Eddie Chapman*\n",
    "\n",
    "This program takes a folder of text files and a .csv of metadata and creates PDF cover sheets for the text files. "
   ]
  },
  {
   "cell_type": "markdown",
   "metadata": {},
   "source": [
    "### Set-up\n",
    "\n",
    "Place the following in a single folder:\n",
    "\n",
    "1. **`.txt` files** representing the records you want PDF covers of\n",
    "2. A **`.csv` file** with record metadata to be referenced using the list of .txt filenames\n",
    "    + formatted with the headings:\n",
    "    + `record_id` | `participants` | `record_type` | `record_format` | `date` | `source` | `title` | `url` | `description`\n",
    "    + It's OK to have more records in the CSV than will be formatted in .txt form\n",
    "3. **two image files** that go on the cover:\n",
    "    + `zucklogo.png` (logo)\n",
    "    + `zuckbox.png` (decorative box)"
   ]
  },
  {
   "cell_type": "markdown",
   "metadata": {},
   "source": [
    "### Libraries\n",
    "\n",
    "- `FPDF` is used to format the PDF. It uses a canvas type system to locate text on the page. \n",
    "- `os` is used to set the local working directory\n",
    "- `csv` is used to read the csv metadata file"
   ]
  },
  {
   "cell_type": "code",
   "execution_count": 71,
   "metadata": {
    "collapsed": true
   },
   "outputs": [],
   "source": [
    "from fpdf import FPDF\n",
    "import os\n",
    "import csv"
   ]
  },
  {
   "cell_type": "markdown",
   "metadata": {},
   "source": [
    "Please set your working directory to the desired folder!"
   ]
  },
  {
   "cell_type": "code",
   "execution_count": 72,
   "metadata": {
    "collapsed": true
   },
   "outputs": [],
   "source": [
    "os.chdir('C:\\\\Users\\\\chapman4\\\\Downloads\\\\zuck-text-ready-test\\\\text\\\\text-new')"
   ]
  },
  {
   "cell_type": "markdown",
   "metadata": {},
   "source": [
    "### List filenames\n",
    "\n",
    "Reads a folder of text documents only to grab the filenames. Allows program to loop through larger list of metadata and only select the necessary records based on folder contents."
   ]
  },
  {
   "cell_type": "code",
   "execution_count": 73,
   "metadata": {
    "collapsed": true
   },
   "outputs": [],
   "source": [
    "def create_filenames():\n",
    "# Creating list of filenames in folder specified when setting directory above\n",
    "    filenames = [name.split(\".\")[0] for name in os.listdir(\".\") if name.endswith(\".txt\")]\n",
    "    return filenames"
   ]
  },
  {
   "cell_type": "markdown",
   "metadata": {},
   "source": [
    "### Create Metadata\n",
    "Reads a CSV file and extracts values to a new dictionary. Fieldnames follow the column names, though I think it could work even if they don't match exactly. "
   ]
  },
  {
   "cell_type": "code",
   "execution_count": 74,
   "metadata": {
    "collapsed": true
   },
   "outputs": [],
   "source": [
    "def create_metadata():\n",
    "    metadata = []\n",
    "    with open('zuck-metadata.csv', encoding=\"UTF-8\") as csvfile:\n",
    "        fieldnames = ['record_id', 'participants', 'record_type', 'record_format',\\\n",
    "                      'date', 'source', 'title', 'url', 'description']\n",
    "        reader = csv.DictReader(csvfile, fieldnames)\n",
    "        for row in reader:\n",
    "            record = {}\n",
    "            for name in fieldnames:\n",
    "                record[name] = row[name]\n",
    "            metadata.append(record)\n",
    "        return metadata"
   ]
  },
  {
   "cell_type": "markdown",
   "metadata": {},
   "source": [
    "### Create PDF\n",
    "Given a specific row of metadata, creates a PDF cover letter with variables of the metadata dictionary row content."
   ]
  },
  {
   "cell_type": "code",
   "execution_count": 75,
   "metadata": {
    "collapsed": true
   },
   "outputs": [],
   "source": [
    "def create_pdf(row):\n",
    "    # Create instance of FPDF class\n",
    "    pdf = FPDF(format='Letter', unit='in')\n",
    "\n",
    "    # Set margin sizes\n",
    "    pdf.l_margin = 1\n",
    "    pdf.r_margin = 1\n",
    "    pdf.t_margin = .25\n",
    "    pdf.b_margin = .25\n",
    "\n",
    "    # Create first page\n",
    "    pdf.add_page()\n",
    "\n",
    "    # Effective page width and height (for centering purposes)\n",
    "    epw = pdf.w - 2*pdf.l_margin\n",
    "    #eph = pdf.h = 2*pdf.t_margin\n",
    "\n",
    "    # Font declaration\n",
    "    pdf.set_font('Helvetica', '', 14)\n",
    "\n",
    "    # Text height\n",
    "    th = pdf.font_size\n",
    "\n",
    "    # Initial line break needed for unknown reasons. \n",
    "    pdf.ln(2*th)\n",
    "\n",
    "    # Images\n",
    "    # Use absolute positioning. Specify image dimension or it will revert to 72dpi.\n",
    "    pdf.image('zuckbox.png', x=.39, y=.535, h=9.93, type='PNG')\n",
    "    pdf.image('zucklogo.png', x=1, y=1, h=1.133, type='PNG')\n",
    "\n",
    "    # Zuck Files URL\n",
    "    pdf.set_xy(4.86, 1.43)     # Absolute positioning\n",
    "    pdf.cell(0, th, 'www.zuckerbergfiles.org')  # Content cell (width, height, content)\n",
    "    pdf.ln(1.2)                # Line break\n",
    "\n",
    "    # Title\n",
    "    pdf.set_font('Helvetica','B', 20)\n",
    "    pdf.multi_cell(epw, th*1.5, row['title'], align='C')  \n",
    "    pdf.ln(.10)\n",
    "\n",
    "    # ID\n",
    "    pdf.set_font('Helvetica', '', 12)                  \n",
    "    pdf.cell(epw, th, row['record_id'], align='C')\n",
    "    pdf.ln(.72)\n",
    "\n",
    "    # Date\n",
    "    pdf.set_xy(1.25, 3.6)\n",
    "    pdf.set_font('Helvetica', 'B')\n",
    "    pdf.cell(1.1, th, 'Date: ', align='R')\n",
    "    pdf.set_font('Helvetica', style = '')\n",
    "    pdf.multi_cell(4.93, th, row['date'], align='L')\n",
    "    pdf.ln(.25) \n",
    "    \n",
    "    # Description\n",
    "    pdf.set_x(1.25)                                         # Absolute positioning\n",
    "    pdf.set_font('Helvetica', 'B')                          # Bold font for label\n",
    "    pdf.cell(1.1, th, 'Description: ', align='R')           # Metadata field label\n",
    "    pdf.set_font('Helvetica', style = '')                   # Unbold font for contents\n",
    "    pdf.multi_cell(4.93, th, row['description'], align='L') # Metadata value contents\n",
    "    pdf.ln(.25)\n",
    "    \n",
    "    # Participants\n",
    "    pdf.set_x(1.25)\n",
    "    pdf.set_font('Helvetica', 'B')\n",
    "    pdf.cell(1.1, th, 'Participants: ', align='R')\n",
    "    pdf.set_font('Helvetica', style = '')\n",
    "    pdf.multi_cell(4.93, th, row['participants'], align='L')\n",
    "    pdf.ln(.25)\n",
    "    \n",
    "    # Source\n",
    "    pdf.set_x(1.25)  # Reset L-R position\n",
    "    pdf.set_font('Helvetica', 'B')\n",
    "    pdf.cell(1.1, th, 'Source: ', align='R')\n",
    "    pdf.set_font('Helvetica', style = '')\n",
    "    pdf.multi_cell(4.93, th, row['source'], align='L')\n",
    "    pdf.ln(.25)\n",
    "                                                                 \n",
    "    # Type\n",
    "    pdf.set_x(1.25)\n",
    "    pdf.set_font('Helvetica', 'B')\n",
    "    pdf.cell(1.1, th, 'Type: ', align='R')\n",
    "    pdf.set_font('Helvetica', style = '')\n",
    "    pdf.multi_cell(4.93, th, row['record_type'], align='L')\n",
    "    pdf.ln(.25)\n",
    "    \n",
    "    # URL\n",
    "    pdf.set_x(1.25)\n",
    "    pdf.set_font('Helvetica', 'B')\n",
    "    pdf.cell(1.1, th, 'URL: ', align='R')\n",
    "    pdf.set_font('Helvetica', style = '')\n",
    "    pdf.multi_cell(4.93, th, row['url'], align='L')\n",
    "\n",
    "    # Write file\n",
    "    pdf.output(row['record_id'] + '_cover' + '.pdf', 'F')"
   ]
  },
  {
   "cell_type": "markdown",
   "metadata": {},
   "source": [
    "### Order of operations\n",
    "\n",
    "- Gets list of necessary files (`create_filenames()`)\n",
    "- Loops through metadata rows until they match with necessary files\n",
    "- Creates a PDF of that row of metadata\n",
    "- UNLESS there are funky characters somewhere, then it prints out which file\n",
    "    + UnicodeEncodeErrors mean that there is a non-compatable character in that record's CSV row.\n",
    "    + Likely suspects are slanty quotes, double or single (including appostrophes). Replace them with straight up and down quotes. "
   ]
  },
  {
   "cell_type": "code",
   "execution_count": 76,
   "metadata": {
    "collapsed": true
   },
   "outputs": [],
   "source": [
    "def main():\n",
    "    filenames = create_filenames()\n",
    "    for row in create_metadata():\n",
    "        if row['record_id'] in filenames:\n",
    "            try:\n",
    "                create_pdf(row) \n",
    "            except UnicodeEncodeError:\n",
    "                print('UnicodeEncodeError: ' + row['record_id'])"
   ]
  },
  {
   "cell_type": "code",
   "execution_count": 77,
   "metadata": {},
   "outputs": [],
   "source": [
    "main()"
   ]
  }
 ],
 "metadata": {
  "kernelspec": {
   "display_name": "Python 3",
   "language": "python",
   "name": "python3"
  },
  "language_info": {
   "codemirror_mode": {
    "name": "ipython",
    "version": 3
   },
   "file_extension": ".py",
   "mimetype": "text/x-python",
   "name": "python",
   "nbconvert_exporter": "python",
   "pygments_lexer": "ipython3",
   "version": "3.6.3"
  }
 },
 "nbformat": 4,
 "nbformat_minor": 2
}
