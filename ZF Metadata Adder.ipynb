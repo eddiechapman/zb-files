{
 "cells": [
  {
   "cell_type": "markdown",
   "metadata": {},
   "source": [
    "# Zuck Metadata Adder\n",
    "*Eddie Chapman*\n",
    "\n",
    "Adds metadata headings to text files for the Zuckerberg Files project. It needs a folder full of text files (w/o metadata) and a CSV file of metadata matching the text files (.txt filename = CSV `record_id` field). Metadata fields are formatted as `##metadata field##`. A `##content##` header is left at the end of the the metadata header to denote that the content is begining. Once metadata is added, the `Zuck PDF Cover Creator`, `Zuck PDF Body Creator` and `Zuck PDF Merger` can be used to turn the text files into PDFs."
   ]
  },
  {
   "cell_type": "markdown",
   "metadata": {},
   "source": [
    "### Set-up\n",
    "\n",
    "Format the metadata CSV with the following headings:\n",
    "\n",
    "`record_id` | `participants` | `record_type` | `record_format` | `date` | `source` | `title` | `url` | `description`\n",
    "\n",
    "It's OK to have more records in the CSV than will be formatted in .txt form."
   ]
  },
  {
   "cell_type": "markdown",
   "metadata": {},
   "source": [
    "### Libraries\n",
    "\n",
    "- `csv` to manipulate the metadata CSV\n",
    "- `os` to set local working directory\n",
    "- `chardet` to provide encoding detection support"
   ]
  },
  {
   "cell_type": "code",
   "execution_count": 19,
   "metadata": {
    "collapsed": true
   },
   "outputs": [],
   "source": [
    "import csv\n",
    "import os\n",
    "from chardet.universaldetector import UniversalDetector"
   ]
  },
  {
   "cell_type": "markdown",
   "metadata": {},
   "source": [
    "Set your current working directory based on where your files/csv are located.   \n",
    "\n",
    "Remember to add an extra backslash ('`C:\\Users\\Username\\\\...`' becomes '`C:\\\\Users\\\\Username\\\\...`')"
   ]
  },
  {
   "cell_type": "code",
   "execution_count": 20,
   "metadata": {
    "collapsed": true
   },
   "outputs": [],
   "source": [
    "# Set directory to the inside of folder full of text files that need editing\n",
    "os.chdir('C:\\\\Users\\\\chapman4\\\\Downloads\\\\zuck-text-ready-test\\\\text\\\\text-new')"
   ]
  },
  {
   "cell_type": "markdown",
   "metadata": {},
   "source": [
    "### Create Metadata\n",
    "\n",
    "This reads the CSV file. It goes row by row, and each row's values are sent to a dictionary using the `fieldnames` list. That row's dictionary is added to the `metadata` list of rows and the loop goes on to the next record. "
   ]
  },
  {
   "cell_type": "code",
   "execution_count": 21,
   "metadata": {
    "collapsed": true
   },
   "outputs": [],
   "source": [
    "def create_metadata():\n",
    "    metadata = []\n",
    "    with open('zuck-metadata.csv', encoding=\"UTF-8\") as csvfile:\n",
    "        fieldnames = ['record_id', 'participants', 'record_type', 'record_format',\\\n",
    "                      'date', 'source', 'title', 'url', 'description']\n",
    "        reader = csv.DictReader(csvfile, fieldnames)\n",
    "        for row in reader:\n",
    "            record = {}\n",
    "            for name in fieldnames:\n",
    "                record[name] = row[name]\n",
    "            metadata.append(record)\n",
    "        return metadata       "
   ]
  },
  {
   "cell_type": "markdown",
   "metadata": {},
   "source": [
    "### List filenames\n",
    "This figures out which files we're going to be modifying and which rows of the metadata CSV contain the desired information (based on text filename = csv `record_id`)"
   ]
  },
  {
   "cell_type": "code",
   "execution_count": 22,
   "metadata": {
    "collapsed": true
   },
   "outputs": [],
   "source": [
    "# Creating list of filenames in folder specified when setting directory above\n",
    "def list_filenames():\n",
    "    filenames = [name.split(\".\")[0] for name in os.listdir(\".\") if name.endswith(\".txt\")]\n",
    "    return filenames"
   ]
  },
  {
   "cell_type": "markdown",
   "metadata": {},
   "source": [
    "### Detect Encoding\n",
    "IDK, a lot of the original text files got created on different opperating systems and wound up in competeting formats. This might help by deterimining the encoding for each file and opening it up correctly. Who knows! "
   ]
  },
  {
   "cell_type": "code",
   "execution_count": 23,
   "metadata": {
    "collapsed": true
   },
   "outputs": [],
   "source": [
    "def detect_encoding(filename):\n",
    "    # Detector object for encoding detection\n",
    "    detector = UniversalDetector()\n",
    "\n",
    "    # Determining encoding information, adding as a key-value pair to record's metadata dict entry\n",
    "    with open(filename + '.txt', 'rb') as infile:\n",
    "        detector.reset()\n",
    "        for line in infile:\n",
    "            detector.feed(line)\n",
    "            if detector.done:   # detection process ends automatically when confidence is high enough\n",
    "                break\n",
    "        detector.close()\n",
    "        return detector.result['encoding']"
   ]
  },
  {
   "cell_type": "markdown",
   "metadata": {},
   "source": [
    "### Grab Text\n",
    "This up and pulls the whole text from any .txt file specified in `list_filenames()` above."
   ]
  },
  {
   "cell_type": "code",
   "execution_count": 24,
   "metadata": {
    "collapsed": true
   },
   "outputs": [],
   "source": [
    "def grab_text(filename, encoding):\n",
    "    with open(filename + '.txt', 'r+', encoding = encoding) as infile:\n",
    "        text = infile.read()\n",
    "        return text"
   ]
  },
  {
   "cell_type": "markdown",
   "metadata": {},
   "source": [
    "### Write Metadata\n",
    "That text we just grabbed is put to use here. Also the metadata from the CSV corresponding to the title of the file we're modified. It's all in here."
   ]
  },
  {
   "cell_type": "code",
   "execution_count": 25,
   "metadata": {
    "collapsed": true
   },
   "outputs": [],
   "source": [
    "def write_metadata(filename, row, text): \n",
    "    with open(filename + '.txt', 'w', encoding = \"utf8\") as outfile:\n",
    "        # All this mess could probably be simplified with str.format()\n",
    "        outfile.write('##title##\\n\\n')    \n",
    "        outfile.write(row['title'] + '\\n\\n')\n",
    "        outfile.write('##date##\\n\\n')\n",
    "        outfile.write(row['date'] + '\\n\\n')\n",
    "        outfile.write('##id##\\n\\n')\n",
    "        outfile.write(row['record_id'] + '\\n\\n') \n",
    "        outfile.write('##description##\\n\\n')\n",
    "        outfile.write(row['description'] + '\\n\\n')\n",
    "        outfile.write('##source##\\n\\n')\n",
    "        outfile.write(row['source'] + '\\n\\n')\n",
    "        outfile.write('##type##\\n\\n')\n",
    "        outfile.write(row['record_type'] + '\\n\\n')\n",
    "        outfile.write('##participants##\\n\\n')\n",
    "        outfile.write(row['participants'] + '\\n\\n')\n",
    "        outfile.write('##format##\\n\\n')\n",
    "        outfile.write(row['record_format'] + '\\n\\n')\n",
    "        outfile.write('##url##\\n\\n')\n",
    "        outfile.write(row['url'] + '\\n\\n\\n')\n",
    "        outfile.write('##content##\\n\\n')\n",
    "        outfile.write(text)\n",
    "        outfile.close()"
   ]
  },
  {
   "cell_type": "markdown",
   "metadata": {},
   "source": [
    "## Kick-off"
   ]
  },
  {
   "cell_type": "code",
   "execution_count": 26,
   "metadata": {
    "collapsed": true
   },
   "outputs": [],
   "source": [
    "def main():\n",
    "    filenames = list_filenames()\n",
    "    \n",
    "    for row in create_metadata():\n",
    "        if row['record_id'] in filenames:\n",
    "            encoding = detect_encoding(row['record_id'])\n",
    "            text = grab_text(row['record_id'], encoding)\n",
    "            write_metadata(row['record_id'], row, text)"
   ]
  },
  {
   "cell_type": "code",
   "execution_count": 27,
   "metadata": {},
   "outputs": [],
   "source": [
    "main()"
   ]
  },
  {
   "cell_type": "markdown",
   "metadata": {},
   "source": []
  }
 ],
 "metadata": {
  "kernelspec": {
   "display_name": "Python 3",
   "language": "python",
   "name": "python3"
  },
  "language_info": {
   "codemirror_mode": {
    "name": "ipython",
    "version": 3
   },
   "file_extension": ".py",
   "mimetype": "text/x-python",
   "name": "python",
   "nbconvert_exporter": "python",
   "pygments_lexer": "ipython3",
   "version": "3.6.3"
  }
 },
 "nbformat": 4,
 "nbformat_minor": 2
}
