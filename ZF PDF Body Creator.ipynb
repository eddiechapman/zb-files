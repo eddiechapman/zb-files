{
 "cells": [
  {
   "cell_type": "markdown",
   "metadata": {},
   "source": [
    "# Zuck PDF Body Creator\n",
    "\n",
    "*Eddie Chapman*\n",
    "\n",
    "This program reads a folder of `.txt` files and outputs `.pdf` documents. It begins copying text after reading `##content##`. After, all names formatted as `##Name##` are bolded and hashtags removed. \n",
    "\n",
    "`Zuck Metadata Adder` must be run beforehand in order to add `##content##`. \n",
    "\n",
    "Output is `Record_ID-body.pdf`"
   ]
  },
  {
   "cell_type": "markdown",
   "metadata": {},
   "source": [
    "### Set-up\n",
    "\n",
    "Program uses `reportlab` for PDF generation and `chardet` for encoding stuff"
   ]
  },
  {
   "cell_type": "code",
   "execution_count": 127,
   "metadata": {
    "collapsed": true
   },
   "outputs": [],
   "source": [
    "import os\n",
    "from reportlab.pdfgen import canvas\n",
    "from reportlab.lib.pagesizes import letter\n",
    "from reportlab.platypus import SimpleDocTemplate, Paragraph, Spacer\n",
    "from reportlab.lib.styles import getSampleStyleSheet, ParagraphStyle\n",
    "from reportlab.lib.enums import TA_JUSTIFY\n",
    "from chardet.universaldetector import UniversalDetector  "
   ]
  },
  {
   "cell_type": "markdown",
   "metadata": {},
   "source": [
    "Setting local directory. Make sure it matches your desired folder!"
   ]
  },
  {
   "cell_type": "code",
   "execution_count": 128,
   "metadata": {
    "collapsed": true
   },
   "outputs": [],
   "source": [
    "os.chdir('C:\\\\Users\\\\chapman4\\\\Downloads\\\\zuck-text-ready-test\\\\text\\\\text-new')"
   ]
  },
  {
   "cell_type": "markdown",
   "metadata": {},
   "source": [
    "### List Filenames\n",
    "\n",
    "Creating a list of filenames using the folder of text files. Text files should be named the same thing. \n",
    " \n",
    " `name.split()` removes the file extension. "
   ]
  },
  {
   "cell_type": "code",
   "execution_count": 129,
   "metadata": {
    "collapsed": true
   },
   "outputs": [],
   "source": [
    "def list_filenames():\n",
    "    filenames = [name.split(\".\")[0] for name in os.listdir(\".\") if name.endswith(\".txt\")]\n",
    "    return filenames"
   ]
  },
  {
   "cell_type": "markdown",
   "metadata": {},
   "source": [
    "### Determine Encoding \n",
    "Figuring out what encoding each text file is. I'm not super sure this helps the process. Hopefully everything is UTF-8 in the future..."
   ]
  },
  {
   "cell_type": "code",
   "execution_count": 130,
   "metadata": {
    "collapsed": true
   },
   "outputs": [],
   "source": [
    "def determine_encoding(filename):\n",
    "    detector = UniversalDetector()\n",
    "    with open(filename + '.txt', 'rb') as infile: \n",
    "        detector.reset()\n",
    "        for line in infile:\n",
    "            detector.feed(line)\n",
    "            if detector.done:   # detection process ends automatically when confidence is high enough\n",
    "                break\n",
    "        detector.close()\n",
    "        return detector.result"
   ]
  },
  {
   "cell_type": "markdown",
   "metadata": {},
   "source": [
    "### Create PDF\n",
    "Making the .pdf using the filename and encoding.  \n",
    "  \n",
    "Initializes a .pdf document (`SimpleDocTemplate` + minor tweeks from `styles.add`) \n",
    "\n",
    "Then it reads the text file line by line until it hits `##content##`, after which it copies the entire remaining document.\n",
    "\n",
    "All hashtagged lines (`##sample##`) have their hashtags removed and are bolded. \n",
    "\n",
    "All non-hashtagged lines are formmated as paragraphs. \n",
    "\n",
    "The PDF is exported (`doc.build()`)"
   ]
  },
  {
   "cell_type": "code",
   "execution_count": 131,
   "metadata": {
    "collapsed": true
   },
   "outputs": [],
   "source": [
    "def create_pdf(filename, detector_result):\n",
    "    with open(filename + '.txt', 'r', encoding = detector_result['encoding']) as infile:  \n",
    "        doc = SimpleDocTemplate(filename + '_body.pdf', pagesize=letter, rightMargin=80, leftMargin=80,\\\n",
    "                                topMargin=60, bottomMargin=60)\n",
    "        styles = getSampleStyleSheet()\n",
    "        styles.add(ParagraphStyle(name='Paragraph', fontName='Helvetica', fontSize=12,  leading=18))\n",
    "        styles.add(ParagraphStyle(name='Bold', fontName='Helvetica-Bold', fontSize=12))\n",
    "            \n",
    "        content = []\n",
    "        \n",
    "        for line in infile:\n",
    "            if '##content##' in line:\n",
    "                for line in infile:\n",
    "                    if not line.isspace():\n",
    "                        clean_line = line.strip()\n",
    "                        if '##' in line:\n",
    "                            tag_line = clean_line.replace('##', '')\n",
    "                            uni_tag_line = tag_line.encode('utf-8')\n",
    "                            content.append(Paragraph(uni_tag_line, styles[\"Bold\"]))\n",
    "                            content.append(Spacer(1, 12))\n",
    "                        else:\n",
    "                            uni_line = clean_line.encode('utf-8')\n",
    "                            content.append(Paragraph(uni_line, styles[\"Paragraph\"]))\n",
    "                            content.append(Spacer(1, 12))\n",
    "        doc.build(content) "
   ]
  },
  {
   "cell_type": "markdown",
   "metadata": {
    "collapsed": true
   },
   "source": [
    "### Order of Operations    "
   ]
  },
  {
   "cell_type": "code",
   "execution_count": 132,
   "metadata": {
    "collapsed": true
   },
   "outputs": [],
   "source": [
    "def main():\n",
    "    for filename in list_filenames():\n",
    "        detector_result = determine_encoding(filename)\n",
    "        create_pdf(filename, detector_result)"
   ]
  },
  {
   "cell_type": "code",
   "execution_count": 133,
   "metadata": {},
   "outputs": [],
   "source": [
    "main()"
   ]
  }
 ],
 "metadata": {
  "kernelspec": {
   "display_name": "Python 3",
   "language": "python",
   "name": "python3"
  },
  "language_info": {
   "codemirror_mode": {
    "name": "ipython",
    "version": 3
   },
   "file_extension": ".py",
   "mimetype": "text/x-python",
   "name": "python",
   "nbconvert_exporter": "python",
   "pygments_lexer": "ipython3",
   "version": "3.6.3"
  }
 },
 "nbformat": 4,
 "nbformat_minor": 2
}
