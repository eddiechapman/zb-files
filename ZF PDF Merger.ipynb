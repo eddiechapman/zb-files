{
 "cells": [
  {
   "cell_type": "markdown",
   "metadata": {},
   "source": [
    "# Zuck PDF Merger\n",
    "\n",
    "*Eddie Chapman*\n",
    "\n",
    "Takes files created from `Zuck PDF Body Creator` and `Zuck PDF Cover Creator` and merges them into single documents based on `record ID` field."
   ]
  },
  {
   "cell_type": "markdown",
   "metadata": {},
   "source": [
    "### Set-up\n",
    "- `PyPDF2` for PDF manipulation\n",
    "- `os` for setting local working directory"
   ]
  },
  {
   "cell_type": "code",
   "execution_count": 31,
   "metadata": {
    "collapsed": true
   },
   "outputs": [],
   "source": [
    "from PyPDF2 import PdfFileMerger\n",
    "import os"
   ]
  },
  {
   "cell_type": "markdown",
   "metadata": {},
   "source": [
    "Set your local directory based on the folder where the PDFs are located, now!"
   ]
  },
  {
   "cell_type": "code",
   "execution_count": 32,
   "metadata": {
    "collapsed": true
   },
   "outputs": [],
   "source": [
    "# Set directory\n",
    "os.chdir('C:\\\\Users\\\\chapman4\\\\Downloads\\\\zuck-text-ready-test\\\\text\\\\text-new')"
   ]
  },
  {
   "cell_type": "markdown",
   "metadata": {},
   "source": [
    "### List Filenames\n",
    "\n",
    "This just figures out what the filenames to be looking for are. Reads the suggested folder (from `chdir()` above) and pulls out filesnames of PDFs, minus the filetype extension. "
   ]
  },
  {
   "cell_type": "code",
   "execution_count": 33,
   "metadata": {
    "collapsed": true
   },
   "outputs": [],
   "source": [
    "def list_filenames():\n",
    "# Get Filenames. Assumes cover pdfs name ends with '-cover'. Assumes there is a body for every cover. \n",
    "    filenames = [name.split(\"_\")[0] for name in os.listdir(\".\") if name.endswith(\".pdf\")]\n",
    "    return filenames"
   ]
  },
  {
   "cell_type": "markdown",
   "metadata": {},
   "source": [
    "### Merge PDFs\n",
    "\n",
    "This creates a `merger` object. Opens both the pdf cover and body based on the specified filename and merges them into one file with `-transcript.pdf` on the end. "
   ]
  },
  {
   "cell_type": "code",
   "execution_count": 34,
   "metadata": {
    "collapsed": true
   },
   "outputs": [],
   "source": [
    "def pdf_merge(filename):\n",
    "    merger = PdfFileMerger()\n",
    "    \n",
    "    pdf_cover = open(filename + '_cover.pdf', 'rb')\n",
    "    merger.append(pdf_cover)\n",
    "\n",
    "    pdf_body = open(filename + '_body.pdf', 'rb')\n",
    "    merger.append(pdf_body)\n",
    "\n",
    "    outfile = open(filename + '-transcript.pdf', 'wb')\n",
    "    merger.write(outfile)\n",
    "    \n",
    "    pdf_cover.close()\n",
    "    pdf_body.close()\n",
    "    outfile.close()"
   ]
  },
  {
   "cell_type": "markdown",
   "metadata": {},
   "source": [
    "### Run it.\n",
    "Loops through the filenames and trys to merge. If it doesn't work, it prints the error source filename."
   ]
  },
  {
   "cell_type": "code",
   "execution_count": 35,
   "metadata": {
    "collapsed": true
   },
   "outputs": [],
   "source": [
    "def main(): \n",
    "    for filename in list_filenames():\n",
    "        try:\n",
    "            pdf_merge(filename)\n",
    "        except FileNotFoundError:\n",
    "            print('File Not Found: ' + filename)"
   ]
  },
  {
   "cell_type": "code",
   "execution_count": 36,
   "metadata": {},
   "outputs": [],
   "source": [
    "main()"
   ]
  },
  {
   "cell_type": "code",
   "execution_count": null,
   "metadata": {
    "collapsed": true
   },
   "outputs": [],
   "source": []
  },
  {
   "cell_type": "code",
   "execution_count": null,
   "metadata": {
    "collapsed": true
   },
   "outputs": [],
   "source": []
  },
  {
   "cell_type": "code",
   "execution_count": null,
   "metadata": {
    "collapsed": true
   },
   "outputs": [],
   "source": []
  }
 ],
 "metadata": {
  "kernelspec": {
   "display_name": "Python 3",
   "language": "python",
   "name": "python3"
  },
  "language_info": {
   "codemirror_mode": {
    "name": "ipython",
    "version": 3
   },
   "file_extension": ".py",
   "mimetype": "text/x-python",
   "name": "python",
   "nbconvert_exporter": "python",
   "pygments_lexer": "ipython3",
   "version": "3.6.3"
  }
 },
 "nbformat": 4,
 "nbformat_minor": 2
}
